{
 "cells": [
  {
   "cell_type": "code",
   "execution_count": 2,
   "id": "b9e8cb10-4a00-4f52-a2cd-4f0814bb81e6",
   "metadata": {
    "tags": []
   },
   "outputs": [],
   "source": [
    "import numpy as np\n",
    "import pandas as pd\n",
    "import seaborn as sns\n",
    "import matplotlib.pyplot as plt"
   ]
  },
  {
   "cell_type": "code",
   "execution_count": 3,
   "id": "e62874f7-71d2-4d04-af65-c393e5fa1879",
   "metadata": {
    "tags": []
   },
   "outputs": [
    {
     "data": {
      "text/html": [
       "<div>\n",
       "<style scoped>\n",
       "    .dataframe tbody tr th:only-of-type {\n",
       "        vertical-align: middle;\n",
       "    }\n",
       "\n",
       "    .dataframe tbody tr th {\n",
       "        vertical-align: top;\n",
       "    }\n",
       "\n",
       "    .dataframe thead th {\n",
       "        text-align: right;\n",
       "    }\n",
       "</style>\n",
       "<table border=\"1\" class=\"dataframe\">\n",
       "  <thead>\n",
       "    <tr style=\"text-align: right;\">\n",
       "      <th></th>\n",
       "      <th>Profile Name</th>\n",
       "      <th>Game Handle</th>\n",
       "      <th>Profile Creation Time</th>\n",
       "      <th>Maturity Level</th>\n",
       "      <th>Primary Lang</th>\n",
       "      <th>Has Auto Playback</th>\n",
       "      <th>Max Stream Quality</th>\n",
       "      <th>Profile Lock Enabled</th>\n",
       "      <th>Profile Transferred</th>\n",
       "      <th>Profile Transfer Time</th>\n",
       "      <th>Profile Transferred From Account</th>\n",
       "      <th>Profile Transferred To Account</th>\n",
       "      <th>Date Of Birth</th>\n",
       "      <th>Gender</th>\n",
       "      <th>Opt-Out</th>\n",
       "      <th>Privacy And Data Settings</th>\n",
       "    </tr>\n",
       "  </thead>\n",
       "  <tbody>\n",
       "    <tr>\n",
       "      <th>0</th>\n",
       "      <td>User 0</td>\n",
       "      <td>NaN</td>\n",
       "      <td>29-10-2021 05:42</td>\n",
       "      <td>ADULTS</td>\n",
       "      <td>en-IN</td>\n",
       "      <td>1.0</td>\n",
       "      <td>Unknown</td>\n",
       "      <td>False</td>\n",
       "      <td>False</td>\n",
       "      <td>NaN</td>\n",
       "      <td>NaN</td>\n",
       "      <td>NaN</td>\n",
       "      <td>NaN</td>\n",
       "      <td>NaN</td>\n",
       "      <td>{}</td>\n",
       "      <td>NaN</td>\n",
       "    </tr>\n",
       "    <tr>\n",
       "      <th>1</th>\n",
       "      <td>User 1</td>\n",
       "      <td>NaN</td>\n",
       "      <td>29-10-2021 05:42</td>\n",
       "      <td>ADULTS</td>\n",
       "      <td>en-IN</td>\n",
       "      <td>1.0</td>\n",
       "      <td>Unknown</td>\n",
       "      <td>False</td>\n",
       "      <td>False</td>\n",
       "      <td>NaN</td>\n",
       "      <td>NaN</td>\n",
       "      <td>NaN</td>\n",
       "      <td>NaN</td>\n",
       "      <td>NaN</td>\n",
       "      <td>{}</td>\n",
       "      <td>NaN</td>\n",
       "    </tr>\n",
       "    <tr>\n",
       "      <th>2</th>\n",
       "      <td>User 2</td>\n",
       "      <td>NaN</td>\n",
       "      <td>29-10-2021 05:42</td>\n",
       "      <td>ADULTS</td>\n",
       "      <td>en-IN</td>\n",
       "      <td>1.0</td>\n",
       "      <td>Unknown</td>\n",
       "      <td>False</td>\n",
       "      <td>False</td>\n",
       "      <td>NaN</td>\n",
       "      <td>NaN</td>\n",
       "      <td>NaN</td>\n",
       "      <td>NaN</td>\n",
       "      <td>NaN</td>\n",
       "      <td>{}</td>\n",
       "      <td>NaN</td>\n",
       "    </tr>\n",
       "    <tr>\n",
       "      <th>3</th>\n",
       "      <td>User 3</td>\n",
       "      <td>NaN</td>\n",
       "      <td>29-10-2021 05:42</td>\n",
       "      <td>ADULTS</td>\n",
       "      <td>en-IN</td>\n",
       "      <td>1.0</td>\n",
       "      <td>Unknown</td>\n",
       "      <td>False</td>\n",
       "      <td>False</td>\n",
       "      <td>NaN</td>\n",
       "      <td>NaN</td>\n",
       "      <td>NaN</td>\n",
       "      <td>NaN</td>\n",
       "      <td>NaN</td>\n",
       "      <td>{}</td>\n",
       "      <td>NaN</td>\n",
       "    </tr>\n",
       "    <tr>\n",
       "      <th>4</th>\n",
       "      <td>User 4</td>\n",
       "      <td>NaN</td>\n",
       "      <td>29-10-2021 05:19</td>\n",
       "      <td>ADULTS</td>\n",
       "      <td>en-IN</td>\n",
       "      <td>NaN</td>\n",
       "      <td>Unknown</td>\n",
       "      <td>False</td>\n",
       "      <td>False</td>\n",
       "      <td>NaN</td>\n",
       "      <td>NaN</td>\n",
       "      <td>NaN</td>\n",
       "      <td>NaN</td>\n",
       "      <td>NaN</td>\n",
       "      <td>{}</td>\n",
       "      <td>NaN</td>\n",
       "    </tr>\n",
       "    <tr>\n",
       "      <th>5</th>\n",
       "      <td>User 5</td>\n",
       "      <td>NaN</td>\n",
       "      <td>07-01-2023 14:07</td>\n",
       "      <td>ADULTS</td>\n",
       "      <td>en-IN</td>\n",
       "      <td>1.0</td>\n",
       "      <td>Unknown</td>\n",
       "      <td>False</td>\n",
       "      <td>False</td>\n",
       "      <td>NaN</td>\n",
       "      <td>NaN</td>\n",
       "      <td>NaN</td>\n",
       "      <td>NaN</td>\n",
       "      <td>NaN</td>\n",
       "      <td>NaN</td>\n",
       "      <td>{}</td>\n",
       "    </tr>\n",
       "    <tr>\n",
       "      <th>6</th>\n",
       "      <td>User 6</td>\n",
       "      <td>NaN</td>\n",
       "      <td>13-06-2022 18:09</td>\n",
       "      <td>ADULTS</td>\n",
       "      <td>en-IN</td>\n",
       "      <td>1.0</td>\n",
       "      <td>Unknown</td>\n",
       "      <td>False</td>\n",
       "      <td>False</td>\n",
       "      <td>NaN</td>\n",
       "      <td>NaN</td>\n",
       "      <td>NaN</td>\n",
       "      <td>NaN</td>\n",
       "      <td>NaN</td>\n",
       "      <td>NaN</td>\n",
       "      <td>{}</td>\n",
       "    </tr>\n",
       "    <tr>\n",
       "      <th>7</th>\n",
       "      <td>User 7</td>\n",
       "      <td>NaN</td>\n",
       "      <td>05-06-2022 16:43</td>\n",
       "      <td>ADULTS</td>\n",
       "      <td>en-IN</td>\n",
       "      <td>1.0</td>\n",
       "      <td>Unknown</td>\n",
       "      <td>False</td>\n",
       "      <td>False</td>\n",
       "      <td>NaN</td>\n",
       "      <td>NaN</td>\n",
       "      <td>NaN</td>\n",
       "      <td>NaN</td>\n",
       "      <td>NaN</td>\n",
       "      <td>NaN</td>\n",
       "      <td>{}</td>\n",
       "    </tr>\n",
       "    <tr>\n",
       "      <th>8</th>\n",
       "      <td>User 8</td>\n",
       "      <td>NaN</td>\n",
       "      <td>01-06-2022 13:24</td>\n",
       "      <td>ADULTS</td>\n",
       "      <td>en-IN</td>\n",
       "      <td>NaN</td>\n",
       "      <td>Unknown</td>\n",
       "      <td>False</td>\n",
       "      <td>False</td>\n",
       "      <td>NaN</td>\n",
       "      <td>NaN</td>\n",
       "      <td>NaN</td>\n",
       "      <td>NaN</td>\n",
       "      <td>NaN</td>\n",
       "      <td>NaN</td>\n",
       "      <td>{}</td>\n",
       "    </tr>\n",
       "  </tbody>\n",
       "</table>\n",
       "</div>"
      ],
      "text/plain": [
       "  Profile Name  Game Handle Profile Creation Time Maturity Level Primary Lang  \\\n",
       "0       User 0          NaN      29-10-2021 05:42         ADULTS        en-IN   \n",
       "1       User 1          NaN      29-10-2021 05:42         ADULTS        en-IN   \n",
       "2       User 2          NaN      29-10-2021 05:42         ADULTS        en-IN   \n",
       "3       User 3          NaN      29-10-2021 05:42         ADULTS        en-IN   \n",
       "4       User 4          NaN      29-10-2021 05:19         ADULTS        en-IN   \n",
       "5       User 5          NaN      07-01-2023 14:07         ADULTS        en-IN   \n",
       "6       User 6          NaN      13-06-2022 18:09         ADULTS        en-IN   \n",
       "7       User 7          NaN      05-06-2022 16:43         ADULTS        en-IN   \n",
       "8       User 8          NaN      01-06-2022 13:24         ADULTS        en-IN   \n",
       "\n",
       "   Has Auto Playback Max Stream Quality  Profile Lock Enabled  \\\n",
       "0                1.0            Unknown                 False   \n",
       "1                1.0            Unknown                 False   \n",
       "2                1.0            Unknown                 False   \n",
       "3                1.0            Unknown                 False   \n",
       "4                NaN            Unknown                 False   \n",
       "5                1.0            Unknown                 False   \n",
       "6                1.0            Unknown                 False   \n",
       "7                1.0            Unknown                 False   \n",
       "8                NaN            Unknown                 False   \n",
       "\n",
       "   Profile Transferred  Profile Transfer Time  \\\n",
       "0                False                    NaN   \n",
       "1                False                    NaN   \n",
       "2                False                    NaN   \n",
       "3                False                    NaN   \n",
       "4                False                    NaN   \n",
       "5                False                    NaN   \n",
       "6                False                    NaN   \n",
       "7                False                    NaN   \n",
       "8                False                    NaN   \n",
       "\n",
       "   Profile Transferred From Account  Profile Transferred To Account  \\\n",
       "0                               NaN                             NaN   \n",
       "1                               NaN                             NaN   \n",
       "2                               NaN                             NaN   \n",
       "3                               NaN                             NaN   \n",
       "4                               NaN                             NaN   \n",
       "5                               NaN                             NaN   \n",
       "6                               NaN                             NaN   \n",
       "7                               NaN                             NaN   \n",
       "8                               NaN                             NaN   \n",
       "\n",
       "   Date Of Birth  Gender Opt-Out Privacy And Data Settings  \n",
       "0            NaN     NaN      {}                       NaN  \n",
       "1            NaN     NaN      {}                       NaN  \n",
       "2            NaN     NaN      {}                       NaN  \n",
       "3            NaN     NaN      {}                       NaN  \n",
       "4            NaN     NaN      {}                       NaN  \n",
       "5            NaN     NaN     NaN                        {}  \n",
       "6            NaN     NaN     NaN                        {}  \n",
       "7            NaN     NaN     NaN                        {}  \n",
       "8            NaN     NaN     NaN                        {}  "
      ]
     },
     "execution_count": 3,
     "metadata": {},
     "output_type": "execute_result"
    }
   ],
   "source": [
    "profile=pd.read_csv(\"All_Profiles.csv\")\n",
    "profile"
   ]
  },
  {
   "cell_type": "code",
   "execution_count": 4,
   "id": "902adbcb-4b4d-4b94-9b31-92c060c5b894",
   "metadata": {
    "tags": []
   },
   "outputs": [
    {
     "data": {
      "text/html": [
       "<div>\n",
       "<style scoped>\n",
       "    .dataframe tbody tr th:only-of-type {\n",
       "        vertical-align: middle;\n",
       "    }\n",
       "\n",
       "    .dataframe tbody tr th {\n",
       "        vertical-align: top;\n",
       "    }\n",
       "\n",
       "    .dataframe thead th {\n",
       "        text-align: right;\n",
       "    }\n",
       "</style>\n",
       "<table border=\"1\" class=\"dataframe\">\n",
       "  <thead>\n",
       "    <tr style=\"text-align: right;\">\n",
       "      <th></th>\n",
       "      <th>Profile Name</th>\n",
       "      <th>Source</th>\n",
       "      <th>Navigation Level</th>\n",
       "      <th>Referrer Url</th>\n",
       "      <th>Webpage Url</th>\n",
       "      <th>Click Utc Ts</th>\n",
       "    </tr>\n",
       "  </thead>\n",
       "  <tbody>\n",
       "    <tr>\n",
       "      <th>0</th>\n",
       "      <td>User 4</td>\n",
       "      <td>Source 0</td>\n",
       "      <td>signupPrompt</td>\n",
       "      <td>NaN</td>\n",
       "      <td>NaN</td>\n",
       "      <td>2022-10-08 14:04:47</td>\n",
       "    </tr>\n",
       "    <tr>\n",
       "      <th>1</th>\n",
       "      <td>User 4</td>\n",
       "      <td>Source 0</td>\n",
       "      <td>browseTitles</td>\n",
       "      <td>NaN</td>\n",
       "      <td>NaN</td>\n",
       "      <td>2022-10-08 14:04:46</td>\n",
       "    </tr>\n",
       "    <tr>\n",
       "      <th>2</th>\n",
       "      <td>User 4</td>\n",
       "      <td>Source 1</td>\n",
       "      <td>movieDetails</td>\n",
       "      <td>NaN</td>\n",
       "      <td>NaN</td>\n",
       "      <td>2022-09-30 14:53:50</td>\n",
       "    </tr>\n",
       "    <tr>\n",
       "      <th>3</th>\n",
       "      <td>User 4</td>\n",
       "      <td>Source 1</td>\n",
       "      <td>browseTitles</td>\n",
       "      <td>NaN</td>\n",
       "      <td>NaN</td>\n",
       "      <td>2022-09-30 14:53:50</td>\n",
       "    </tr>\n",
       "    <tr>\n",
       "      <th>4</th>\n",
       "      <td>User 4</td>\n",
       "      <td>Source 1</td>\n",
       "      <td>movieDetails</td>\n",
       "      <td>NaN</td>\n",
       "      <td>NaN</td>\n",
       "      <td>2022-09-30 14:53:49</td>\n",
       "    </tr>\n",
       "    <tr>\n",
       "      <th>...</th>\n",
       "      <td>...</td>\n",
       "      <td>...</td>\n",
       "      <td>...</td>\n",
       "      <td>...</td>\n",
       "      <td>...</td>\n",
       "      <td>...</td>\n",
       "    </tr>\n",
       "    <tr>\n",
       "      <th>12099</th>\n",
       "      <td>User 8</td>\n",
       "      <td>Source 0</td>\n",
       "      <td>search</td>\n",
       "      <td>NaN</td>\n",
       "      <td>NaN</td>\n",
       "      <td>2023-02-20 03:45:43</td>\n",
       "    </tr>\n",
       "    <tr>\n",
       "      <th>12100</th>\n",
       "      <td>User 8</td>\n",
       "      <td>Source 0</td>\n",
       "      <td>browseTitles</td>\n",
       "      <td>NaN</td>\n",
       "      <td>NaN</td>\n",
       "      <td>2023-02-20 03:45:20</td>\n",
       "    </tr>\n",
       "    <tr>\n",
       "      <th>12101</th>\n",
       "      <td>User 8</td>\n",
       "      <td>Source 0</td>\n",
       "      <td>search</td>\n",
       "      <td>NaN</td>\n",
       "      <td>NaN</td>\n",
       "      <td>2023-02-20 03:45:20</td>\n",
       "    </tr>\n",
       "    <tr>\n",
       "      <th>12102</th>\n",
       "      <td>User 8</td>\n",
       "      <td>Source 0</td>\n",
       "      <td>profilesGate</td>\n",
       "      <td>NaN</td>\n",
       "      <td>NaN</td>\n",
       "      <td>2023-02-20 03:44:47</td>\n",
       "    </tr>\n",
       "    <tr>\n",
       "      <th>12103</th>\n",
       "      <td>User 8</td>\n",
       "      <td>Source 0</td>\n",
       "      <td>browseTitles</td>\n",
       "      <td>NaN</td>\n",
       "      <td>NaN</td>\n",
       "      <td>2023-02-20 03:44:47</td>\n",
       "    </tr>\n",
       "  </tbody>\n",
       "</table>\n",
       "<p>12104 rows × 6 columns</p>\n",
       "</div>"
      ],
      "text/plain": [
       "      Profile Name    Source Navigation Level Referrer Url Webpage Url  \\\n",
       "0           User 4  Source 0     signupPrompt          NaN         NaN   \n",
       "1           User 4  Source 0     browseTitles          NaN         NaN   \n",
       "2           User 4  Source 1     movieDetails          NaN         NaN   \n",
       "3           User 4  Source 1     browseTitles          NaN         NaN   \n",
       "4           User 4  Source 1     movieDetails          NaN         NaN   \n",
       "...            ...       ...              ...          ...         ...   \n",
       "12099       User 8  Source 0           search          NaN         NaN   \n",
       "12100       User 8  Source 0     browseTitles          NaN         NaN   \n",
       "12101       User 8  Source 0           search          NaN         NaN   \n",
       "12102       User 8  Source 0     profilesGate          NaN         NaN   \n",
       "12103       User 8  Source 0     browseTitles          NaN         NaN   \n",
       "\n",
       "              Click Utc Ts  \n",
       "0      2022-10-08 14:04:47  \n",
       "1      2022-10-08 14:04:46  \n",
       "2      2022-09-30 14:53:50  \n",
       "3      2022-09-30 14:53:50  \n",
       "4      2022-09-30 14:53:49  \n",
       "...                    ...  \n",
       "12099  2023-02-20 03:45:43  \n",
       "12100  2023-02-20 03:45:20  \n",
       "12101  2023-02-20 03:45:20  \n",
       "12102  2023-02-20 03:44:47  \n",
       "12103  2023-02-20 03:44:47  \n",
       "\n",
       "[12104 rows x 6 columns]"
      ]
     },
     "execution_count": 4,
     "metadata": {},
     "output_type": "execute_result"
    }
   ],
   "source": [
    "click=pd.read_csv(\"All_Clickstream.csv\")\n",
    "click"
   ]
  },
  {
   "cell_type": "code",
   "execution_count": 5,
   "id": "b8934fde-2071-4dc4-a74b-ad0060a2a7cd",
   "metadata": {
    "tags": []
   },
   "outputs": [
    {
     "data": {
      "text/html": [
       "<div>\n",
       "<style scoped>\n",
       "    .dataframe tbody tr th:only-of-type {\n",
       "        vertical-align: middle;\n",
       "    }\n",
       "\n",
       "    .dataframe tbody tr th {\n",
       "        vertical-align: top;\n",
       "    }\n",
       "\n",
       "    .dataframe thead th {\n",
       "        text-align: right;\n",
       "    }\n",
       "</style>\n",
       "<table border=\"1\" class=\"dataframe\">\n",
       "  <thead>\n",
       "    <tr style=\"text-align: right;\">\n",
       "      <th></th>\n",
       "      <th>Profile Name</th>\n",
       "      <th>Esn</th>\n",
       "      <th>Device Type</th>\n",
       "      <th>Acct First Playback Date</th>\n",
       "      <th>Acct Last Playback Date</th>\n",
       "      <th>Acct First Playback Date For User Generated Plays</th>\n",
       "      <th>Acct Last Playback Date For User Generated Plays</th>\n",
       "      <th>Profile First Playback Date</th>\n",
       "      <th>Profile Last Playback Date</th>\n",
       "      <th>Profile First Playback Date For User Generated Plays</th>\n",
       "      <th>Profile Last Playback Date For User Generated Plays</th>\n",
       "      <th>Deactivation Time</th>\n",
       "    </tr>\n",
       "  </thead>\n",
       "  <tbody>\n",
       "    <tr>\n",
       "      <th>0</th>\n",
       "      <td>User 3</td>\n",
       "      <td>Esn 1</td>\n",
       "      <td>Device Type 4</td>\n",
       "      <td>2022-04-01T09:32:16.028Z</td>\n",
       "      <td>2022-11-07T12:57:43.624Z</td>\n",
       "      <td>2022-04-01T09:32:16.028Z</td>\n",
       "      <td>2022-11-07T12:57:43.624Z</td>\n",
       "      <td>2022-04-01T09:32:16.028Z</td>\n",
       "      <td>2022-11-07T12:57:43.624Z</td>\n",
       "      <td>2022-04-01T09:32:16.028Z</td>\n",
       "      <td>2022-11-07T12:57:43.624Z</td>\n",
       "      <td>NaN</td>\n",
       "    </tr>\n",
       "    <tr>\n",
       "      <th>1</th>\n",
       "      <td>User 1</td>\n",
       "      <td>Esn 6</td>\n",
       "      <td>Device Type 0</td>\n",
       "      <td>2021-12-24T14:40:29.147Z</td>\n",
       "      <td>2022-10-06T17:29:04.497Z</td>\n",
       "      <td>2021-12-24T14:40:29.147Z</td>\n",
       "      <td>2022-10-06T17:29:04.497Z</td>\n",
       "      <td>NaN</td>\n",
       "      <td>NaN</td>\n",
       "      <td>NaN</td>\n",
       "      <td>NaN</td>\n",
       "      <td>NaN</td>\n",
       "    </tr>\n",
       "    <tr>\n",
       "      <th>2</th>\n",
       "      <td>User 2</td>\n",
       "      <td>Esn 6</td>\n",
       "      <td>Device Type 0</td>\n",
       "      <td>2021-12-24T14:40:29.147Z</td>\n",
       "      <td>2022-10-06T17:29:04.497Z</td>\n",
       "      <td>2021-12-24T14:40:29.147Z</td>\n",
       "      <td>2022-10-06T17:29:04.497Z</td>\n",
       "      <td>NaN</td>\n",
       "      <td>NaN</td>\n",
       "      <td>NaN</td>\n",
       "      <td>NaN</td>\n",
       "      <td>NaN</td>\n",
       "    </tr>\n",
       "    <tr>\n",
       "      <th>3</th>\n",
       "      <td>User 3</td>\n",
       "      <td>Esn 6</td>\n",
       "      <td>Device Type 0</td>\n",
       "      <td>2021-12-24T14:40:29.147Z</td>\n",
       "      <td>2022-10-06T17:29:04.497Z</td>\n",
       "      <td>2021-12-24T14:40:29.147Z</td>\n",
       "      <td>2022-10-06T17:29:04.497Z</td>\n",
       "      <td>NaN</td>\n",
       "      <td>NaN</td>\n",
       "      <td>NaN</td>\n",
       "      <td>NaN</td>\n",
       "      <td>NaN</td>\n",
       "    </tr>\n",
       "    <tr>\n",
       "      <th>4</th>\n",
       "      <td>User 0</td>\n",
       "      <td>Esn 6</td>\n",
       "      <td>Device Type 0</td>\n",
       "      <td>2021-12-24T14:40:29.147Z</td>\n",
       "      <td>2022-10-06T17:29:04.497Z</td>\n",
       "      <td>2021-12-24T14:40:29.147Z</td>\n",
       "      <td>2022-10-06T17:29:04.497Z</td>\n",
       "      <td>2022-08-03T16:57:01.297Z</td>\n",
       "      <td>2022-10-06T17:29:04.497Z</td>\n",
       "      <td>2022-08-03T16:57:01.297Z</td>\n",
       "      <td>2022-10-06T17:29:04.497Z</td>\n",
       "      <td>NaN</td>\n",
       "    </tr>\n",
       "    <tr>\n",
       "      <th>...</th>\n",
       "      <td>...</td>\n",
       "      <td>...</td>\n",
       "      <td>...</td>\n",
       "      <td>...</td>\n",
       "      <td>...</td>\n",
       "      <td>...</td>\n",
       "      <td>...</td>\n",
       "      <td>...</td>\n",
       "      <td>...</td>\n",
       "      <td>...</td>\n",
       "      <td>...</td>\n",
       "      <td>...</td>\n",
       "    </tr>\n",
       "    <tr>\n",
       "      <th>132</th>\n",
       "      <td>User 6</td>\n",
       "      <td>Esn 12</td>\n",
       "      <td>Device Type 6</td>\n",
       "      <td>2022-08-09T15:03:25.496Z</td>\n",
       "      <td>2022-11-09T16:15:07.336Z</td>\n",
       "      <td>2022-09-24T16:17:52.956Z</td>\n",
       "      <td>2022-11-09T16:09:35.070Z</td>\n",
       "      <td>2022-08-09T15:03:25.496Z</td>\n",
       "      <td>2022-09-24T16:47:49.211Z</td>\n",
       "      <td>2022-09-24T16:17:52.956Z</td>\n",
       "      <td>2022-09-24T16:39:11.809Z</td>\n",
       "      <td>NaN</td>\n",
       "    </tr>\n",
       "    <tr>\n",
       "      <th>133</th>\n",
       "      <td>User 6</td>\n",
       "      <td>Esn 24</td>\n",
       "      <td>Device Type 0</td>\n",
       "      <td>2022-06-30T15:06:02.168Z</td>\n",
       "      <td>2022-12-04T07:03:13.032Z</td>\n",
       "      <td>2022-06-30T15:06:02.168Z</td>\n",
       "      <td>2022-12-04T07:03:13.032Z</td>\n",
       "      <td>2022-07-17T09:29:45.094Z</td>\n",
       "      <td>2022-07-17T09:29:45.094Z</td>\n",
       "      <td>2022-07-17T09:29:45.094Z</td>\n",
       "      <td>2022-07-17T09:29:45.094Z</td>\n",
       "      <td>NaN</td>\n",
       "    </tr>\n",
       "    <tr>\n",
       "      <th>134</th>\n",
       "      <td>User 8</td>\n",
       "      <td>Esn 45</td>\n",
       "      <td>Device Type 3</td>\n",
       "      <td>NaN</td>\n",
       "      <td>NaN</td>\n",
       "      <td>NaN</td>\n",
       "      <td>NaN</td>\n",
       "      <td>NaN</td>\n",
       "      <td>NaN</td>\n",
       "      <td>NaN</td>\n",
       "      <td>NaN</td>\n",
       "      <td>2023-06-20T07:06:22.004Z</td>\n",
       "    </tr>\n",
       "    <tr>\n",
       "      <th>135</th>\n",
       "      <td>User 8</td>\n",
       "      <td>Esn 40</td>\n",
       "      <td>Device Type 3</td>\n",
       "      <td>2023-06-17T14:29:41.591Z</td>\n",
       "      <td>2023-06-17T14:29:41.591Z</td>\n",
       "      <td>NaN</td>\n",
       "      <td>NaN</td>\n",
       "      <td>2023-06-17T14:29:41.591Z</td>\n",
       "      <td>2023-06-17T14:29:41.591Z</td>\n",
       "      <td>NaN</td>\n",
       "      <td>NaN</td>\n",
       "      <td>2023-06-17T14:33:39.127Z</td>\n",
       "    </tr>\n",
       "    <tr>\n",
       "      <th>136</th>\n",
       "      <td>User 8</td>\n",
       "      <td>Esn 57</td>\n",
       "      <td>Device Type 8</td>\n",
       "      <td>NaN</td>\n",
       "      <td>NaN</td>\n",
       "      <td>NaN</td>\n",
       "      <td>NaN</td>\n",
       "      <td>NaN</td>\n",
       "      <td>NaN</td>\n",
       "      <td>NaN</td>\n",
       "      <td>NaN</td>\n",
       "      <td>2023-01-07T15:12:07.307Z</td>\n",
       "    </tr>\n",
       "  </tbody>\n",
       "</table>\n",
       "<p>137 rows × 12 columns</p>\n",
       "</div>"
      ],
      "text/plain": [
       "    Profile Name     Esn    Device Type  Acct First Playback Date  \\\n",
       "0         User 3   Esn 1  Device Type 4  2022-04-01T09:32:16.028Z   \n",
       "1         User 1   Esn 6  Device Type 0  2021-12-24T14:40:29.147Z   \n",
       "2         User 2   Esn 6  Device Type 0  2021-12-24T14:40:29.147Z   \n",
       "3         User 3   Esn 6  Device Type 0  2021-12-24T14:40:29.147Z   \n",
       "4         User 0   Esn 6  Device Type 0  2021-12-24T14:40:29.147Z   \n",
       "..           ...     ...            ...                       ...   \n",
       "132       User 6  Esn 12  Device Type 6  2022-08-09T15:03:25.496Z   \n",
       "133       User 6  Esn 24  Device Type 0  2022-06-30T15:06:02.168Z   \n",
       "134       User 8  Esn 45  Device Type 3                       NaN   \n",
       "135       User 8  Esn 40  Device Type 3  2023-06-17T14:29:41.591Z   \n",
       "136       User 8  Esn 57  Device Type 8                       NaN   \n",
       "\n",
       "      Acct Last Playback Date  \\\n",
       "0    2022-11-07T12:57:43.624Z   \n",
       "1    2022-10-06T17:29:04.497Z   \n",
       "2    2022-10-06T17:29:04.497Z   \n",
       "3    2022-10-06T17:29:04.497Z   \n",
       "4    2022-10-06T17:29:04.497Z   \n",
       "..                        ...   \n",
       "132  2022-11-09T16:15:07.336Z   \n",
       "133  2022-12-04T07:03:13.032Z   \n",
       "134                       NaN   \n",
       "135  2023-06-17T14:29:41.591Z   \n",
       "136                       NaN   \n",
       "\n",
       "    Acct First Playback Date For User Generated Plays  \\\n",
       "0                            2022-04-01T09:32:16.028Z   \n",
       "1                            2021-12-24T14:40:29.147Z   \n",
       "2                            2021-12-24T14:40:29.147Z   \n",
       "3                            2021-12-24T14:40:29.147Z   \n",
       "4                            2021-12-24T14:40:29.147Z   \n",
       "..                                                ...   \n",
       "132                          2022-09-24T16:17:52.956Z   \n",
       "133                          2022-06-30T15:06:02.168Z   \n",
       "134                                               NaN   \n",
       "135                                               NaN   \n",
       "136                                               NaN   \n",
       "\n",
       "    Acct Last Playback Date For User Generated Plays  \\\n",
       "0                           2022-11-07T12:57:43.624Z   \n",
       "1                           2022-10-06T17:29:04.497Z   \n",
       "2                           2022-10-06T17:29:04.497Z   \n",
       "3                           2022-10-06T17:29:04.497Z   \n",
       "4                           2022-10-06T17:29:04.497Z   \n",
       "..                                               ...   \n",
       "132                         2022-11-09T16:09:35.070Z   \n",
       "133                         2022-12-04T07:03:13.032Z   \n",
       "134                                              NaN   \n",
       "135                                              NaN   \n",
       "136                                              NaN   \n",
       "\n",
       "    Profile First Playback Date Profile Last Playback Date  \\\n",
       "0      2022-04-01T09:32:16.028Z   2022-11-07T12:57:43.624Z   \n",
       "1                           NaN                        NaN   \n",
       "2                           NaN                        NaN   \n",
       "3                           NaN                        NaN   \n",
       "4      2022-08-03T16:57:01.297Z   2022-10-06T17:29:04.497Z   \n",
       "..                          ...                        ...   \n",
       "132    2022-08-09T15:03:25.496Z   2022-09-24T16:47:49.211Z   \n",
       "133    2022-07-17T09:29:45.094Z   2022-07-17T09:29:45.094Z   \n",
       "134                         NaN                        NaN   \n",
       "135    2023-06-17T14:29:41.591Z   2023-06-17T14:29:41.591Z   \n",
       "136                         NaN                        NaN   \n",
       "\n",
       "    Profile First Playback Date For User Generated Plays  \\\n",
       "0                             2022-04-01T09:32:16.028Z     \n",
       "1                                                  NaN     \n",
       "2                                                  NaN     \n",
       "3                                                  NaN     \n",
       "4                             2022-08-03T16:57:01.297Z     \n",
       "..                                                 ...     \n",
       "132                           2022-09-24T16:17:52.956Z     \n",
       "133                           2022-07-17T09:29:45.094Z     \n",
       "134                                                NaN     \n",
       "135                                                NaN     \n",
       "136                                                NaN     \n",
       "\n",
       "    Profile Last Playback Date For User Generated Plays  \\\n",
       "0                             2022-11-07T12:57:43.624Z    \n",
       "1                                                  NaN    \n",
       "2                                                  NaN    \n",
       "3                                                  NaN    \n",
       "4                             2022-10-06T17:29:04.497Z    \n",
       "..                                                 ...    \n",
       "132                           2022-09-24T16:39:11.809Z    \n",
       "133                           2022-07-17T09:29:45.094Z    \n",
       "134                                                NaN    \n",
       "135                                                NaN    \n",
       "136                                                NaN    \n",
       "\n",
       "            Deactivation Time  \n",
       "0                         NaN  \n",
       "1                         NaN  \n",
       "2                         NaN  \n",
       "3                         NaN  \n",
       "4                         NaN  \n",
       "..                        ...  \n",
       "132                       NaN  \n",
       "133                       NaN  \n",
       "134  2023-06-20T07:06:22.004Z  \n",
       "135  2023-06-17T14:33:39.127Z  \n",
       "136  2023-01-07T15:12:07.307Z  \n",
       "\n",
       "[137 rows x 12 columns]"
      ]
     },
     "execution_count": 5,
     "metadata": {},
     "output_type": "execute_result"
    }
   ],
   "source": [
    "device=pd.read_csv(\"All_Devices.csv\")\n",
    "device"
   ]
  },
  {
   "cell_type": "code",
   "execution_count": 6,
   "id": "7c0600f3-4491-4916-aae9-45fd0aacd01d",
   "metadata": {
    "tags": []
   },
   "outputs": [
    {
     "data": {
      "text/html": [
       "<div>\n",
       "<style scoped>\n",
       "    .dataframe tbody tr th:only-of-type {\n",
       "        vertical-align: middle;\n",
       "    }\n",
       "\n",
       "    .dataframe tbody tr th {\n",
       "        vertical-align: top;\n",
       "    }\n",
       "\n",
       "    .dataframe thead th {\n",
       "        text-align: right;\n",
       "    }\n",
       "</style>\n",
       "<table border=\"1\" class=\"dataframe\">\n",
       "  <thead>\n",
       "    <tr style=\"text-align: right;\">\n",
       "      <th></th>\n",
       "      <th>Profile Name</th>\n",
       "      <th>Start Time</th>\n",
       "      <th>Duration</th>\n",
       "      <th>Attributes</th>\n",
       "      <th>Title</th>\n",
       "      <th>Supplemental Video Type</th>\n",
       "      <th>Device Type</th>\n",
       "      <th>Bookmark</th>\n",
       "      <th>Latest Bookmark</th>\n",
       "      <th>Country</th>\n",
       "    </tr>\n",
       "  </thead>\n",
       "  <tbody>\n",
       "    <tr>\n",
       "      <th>0</th>\n",
       "      <td>User 1</td>\n",
       "      <td>2022-04-28 16:08:56</td>\n",
       "      <td>00:00:06</td>\n",
       "      <td>NaN</td>\n",
       "      <td>Chernobyl 1986</td>\n",
       "      <td>NaN</td>\n",
       "      <td>Device Type 1</td>\n",
       "      <td>01:02:16</td>\n",
       "      <td>01:02:16</td>\n",
       "      <td>IN (India)</td>\n",
       "    </tr>\n",
       "    <tr>\n",
       "      <th>1</th>\n",
       "      <td>User 1</td>\n",
       "      <td>2022-04-28 15:54:30</td>\n",
       "      <td>00:09:39</td>\n",
       "      <td>NaN</td>\n",
       "      <td>13 Hours: The Secret Soldiers of Benghazi</td>\n",
       "      <td>NaN</td>\n",
       "      <td>Device Type 1</td>\n",
       "      <td>02:13:19</td>\n",
       "      <td>02:13:19</td>\n",
       "      <td>IN (India)</td>\n",
       "    </tr>\n",
       "    <tr>\n",
       "      <th>2</th>\n",
       "      <td>User 1</td>\n",
       "      <td>2022-04-28 15:53:20</td>\n",
       "      <td>00:00:06</td>\n",
       "      <td>NaN</td>\n",
       "      <td>Saving Private Ryan</td>\n",
       "      <td>NaN</td>\n",
       "      <td>Device Type 1</td>\n",
       "      <td>01:16:17</td>\n",
       "      <td>01:16:17</td>\n",
       "      <td>IN (India)</td>\n",
       "    </tr>\n",
       "    <tr>\n",
       "      <th>3</th>\n",
       "      <td>User 1</td>\n",
       "      <td>2022-04-28 15:52:18</td>\n",
       "      <td>00:00:15</td>\n",
       "      <td>NaN</td>\n",
       "      <td>Mosul</td>\n",
       "      <td>NaN</td>\n",
       "      <td>Device Type 1</td>\n",
       "      <td>01:06:44</td>\n",
       "      <td>01:06:44</td>\n",
       "      <td>IN (India)</td>\n",
       "    </tr>\n",
       "    <tr>\n",
       "      <th>4</th>\n",
       "      <td>User 1</td>\n",
       "      <td>2022-04-28 15:49:11</td>\n",
       "      <td>00:01:45</td>\n",
       "      <td>NaN</td>\n",
       "      <td>12 Strong</td>\n",
       "      <td>NaN</td>\n",
       "      <td>Device Type 1</td>\n",
       "      <td>00:52:28</td>\n",
       "      <td>00:52:28</td>\n",
       "      <td>IN (India)</td>\n",
       "    </tr>\n",
       "    <tr>\n",
       "      <th>...</th>\n",
       "      <td>...</td>\n",
       "      <td>...</td>\n",
       "      <td>...</td>\n",
       "      <td>...</td>\n",
       "      <td>...</td>\n",
       "      <td>...</td>\n",
       "      <td>...</td>\n",
       "      <td>...</td>\n",
       "      <td>...</td>\n",
       "      <td>...</td>\n",
       "    </tr>\n",
       "    <tr>\n",
       "      <th>9987</th>\n",
       "      <td>User 5</td>\n",
       "      <td>2023-01-07 18:41:03</td>\n",
       "      <td>00:00:26</td>\n",
       "      <td>NaN</td>\n",
       "      <td>Slumberland - Fast Laughs - Clip 3</td>\n",
       "      <td>HOOK</td>\n",
       "      <td>Device Type 1</td>\n",
       "      <td>00:00:26</td>\n",
       "      <td>00:00:26</td>\n",
       "      <td>IN (India)</td>\n",
       "    </tr>\n",
       "    <tr>\n",
       "      <th>9988</th>\n",
       "      <td>User 5</td>\n",
       "      <td>2023-01-07 15:44:54</td>\n",
       "      <td>00:02:14</td>\n",
       "      <td>NaN</td>\n",
       "      <td>Wednesday: Season 1: Wednesday's Child Is Full...</td>\n",
       "      <td>NaN</td>\n",
       "      <td>Device Type 5</td>\n",
       "      <td>00:23:25</td>\n",
       "      <td>Not latest view</td>\n",
       "      <td>IN (India)</td>\n",
       "    </tr>\n",
       "    <tr>\n",
       "      <th>9989</th>\n",
       "      <td>User 5</td>\n",
       "      <td>2023-01-07 15:13:36</td>\n",
       "      <td>00:21:11</td>\n",
       "      <td>NaN</td>\n",
       "      <td>Wednesday: Season 1: Wednesday's Child Is Full...</td>\n",
       "      <td>NaN</td>\n",
       "      <td>Device Type 5</td>\n",
       "      <td>00:21:11</td>\n",
       "      <td>Not latest view</td>\n",
       "      <td>IN (India)</td>\n",
       "    </tr>\n",
       "    <tr>\n",
       "      <th>9990</th>\n",
       "      <td>User 5</td>\n",
       "      <td>2023-01-07 15:13:26</td>\n",
       "      <td>00:00:06</td>\n",
       "      <td>Autoplayed: user action: None;</td>\n",
       "      <td>Season 1 Genre Specific Moment Clip: Wednesday</td>\n",
       "      <td>HOOK</td>\n",
       "      <td>Device Type 5</td>\n",
       "      <td>00:00:06</td>\n",
       "      <td>Not latest view</td>\n",
       "      <td>IN (India)</td>\n",
       "    </tr>\n",
       "    <tr>\n",
       "      <th>9991</th>\n",
       "      <td>User 5</td>\n",
       "      <td>2023-01-07 15:13:19</td>\n",
       "      <td>00:00:04</td>\n",
       "      <td>Autoplayed: user action: None;</td>\n",
       "      <td>Naruto Shippuden: Season 1_hook_03_16x9</td>\n",
       "      <td>HOOK</td>\n",
       "      <td>Device Type 5</td>\n",
       "      <td>00:00:04</td>\n",
       "      <td>Not latest view</td>\n",
       "      <td>IN (India)</td>\n",
       "    </tr>\n",
       "  </tbody>\n",
       "</table>\n",
       "<p>9992 rows × 10 columns</p>\n",
       "</div>"
      ],
      "text/plain": [
       "     Profile Name           Start Time  Duration  \\\n",
       "0          User 1  2022-04-28 16:08:56  00:00:06   \n",
       "1          User 1  2022-04-28 15:54:30  00:09:39   \n",
       "2          User 1  2022-04-28 15:53:20  00:00:06   \n",
       "3          User 1  2022-04-28 15:52:18  00:00:15   \n",
       "4          User 1  2022-04-28 15:49:11  00:01:45   \n",
       "...           ...                  ...       ...   \n",
       "9987       User 5  2023-01-07 18:41:03  00:00:26   \n",
       "9988       User 5  2023-01-07 15:44:54  00:02:14   \n",
       "9989       User 5  2023-01-07 15:13:36  00:21:11   \n",
       "9990       User 5  2023-01-07 15:13:26  00:00:06   \n",
       "9991       User 5  2023-01-07 15:13:19  00:00:04   \n",
       "\n",
       "                           Attributes  \\\n",
       "0                                 NaN   \n",
       "1                                 NaN   \n",
       "2                                 NaN   \n",
       "3                                 NaN   \n",
       "4                                 NaN   \n",
       "...                               ...   \n",
       "9987                              NaN   \n",
       "9988                              NaN   \n",
       "9989                              NaN   \n",
       "9990  Autoplayed: user action: None;    \n",
       "9991  Autoplayed: user action: None;    \n",
       "\n",
       "                                                  Title  \\\n",
       "0                                        Chernobyl 1986   \n",
       "1             13 Hours: The Secret Soldiers of Benghazi   \n",
       "2                                   Saving Private Ryan   \n",
       "3                                                 Mosul   \n",
       "4                                             12 Strong   \n",
       "...                                                 ...   \n",
       "9987                 Slumberland - Fast Laughs - Clip 3   \n",
       "9988  Wednesday: Season 1: Wednesday's Child Is Full...   \n",
       "9989  Wednesday: Season 1: Wednesday's Child Is Full...   \n",
       "9990     Season 1 Genre Specific Moment Clip: Wednesday   \n",
       "9991            Naruto Shippuden: Season 1_hook_03_16x9   \n",
       "\n",
       "     Supplemental Video Type    Device Type  Bookmark  Latest Bookmark  \\\n",
       "0                        NaN  Device Type 1  01:02:16         01:02:16   \n",
       "1                        NaN  Device Type 1  02:13:19         02:13:19   \n",
       "2                        NaN  Device Type 1  01:16:17         01:16:17   \n",
       "3                        NaN  Device Type 1  01:06:44         01:06:44   \n",
       "4                        NaN  Device Type 1  00:52:28         00:52:28   \n",
       "...                      ...            ...       ...              ...   \n",
       "9987                    HOOK  Device Type 1  00:00:26         00:00:26   \n",
       "9988                     NaN  Device Type 5  00:23:25  Not latest view   \n",
       "9989                     NaN  Device Type 5  00:21:11  Not latest view   \n",
       "9990                    HOOK  Device Type 5  00:00:06  Not latest view   \n",
       "9991                    HOOK  Device Type 5  00:00:04  Not latest view   \n",
       "\n",
       "         Country  \n",
       "0     IN (India)  \n",
       "1     IN (India)  \n",
       "2     IN (India)  \n",
       "3     IN (India)  \n",
       "4     IN (India)  \n",
       "...          ...  \n",
       "9987  IN (India)  \n",
       "9988  IN (India)  \n",
       "9989  IN (India)  \n",
       "9990  IN (India)  \n",
       "9991  IN (India)  \n",
       "\n",
       "[9992 rows x 10 columns]"
      ]
     },
     "execution_count": 6,
     "metadata": {},
     "output_type": "execute_result"
    }
   ],
   "source": [
    "view=pd.read_csv(\"All_ViewingActivity.csv\")\n",
    "view"
   ]
  },
  {
   "cell_type": "code",
   "execution_count": 7,
   "id": "18205a1a-2e00-498b-a316-fe15f2029620",
   "metadata": {
    "tags": []
   },
   "outputs": [
    {
     "data": {
      "text/html": [
       "<div>\n",
       "<style scoped>\n",
       "    .dataframe tbody tr th:only-of-type {\n",
       "        vertical-align: middle;\n",
       "    }\n",
       "\n",
       "    .dataframe tbody tr th {\n",
       "        vertical-align: top;\n",
       "    }\n",
       "\n",
       "    .dataframe thead th {\n",
       "        text-align: right;\n",
       "    }\n",
       "</style>\n",
       "<table border=\"1\" class=\"dataframe\">\n",
       "  <thead>\n",
       "    <tr style=\"text-align: right;\">\n",
       "      <th></th>\n",
       "      <th>Profile Name</th>\n",
       "      <th>Country Iso Code</th>\n",
       "      <th>Device</th>\n",
       "      <th>Is Kids</th>\n",
       "      <th>Query Typed</th>\n",
       "      <th>Displayed Name</th>\n",
       "      <th>Action</th>\n",
       "      <th>Section</th>\n",
       "      <th>Utc Timestamp</th>\n",
       "    </tr>\n",
       "  </thead>\n",
       "  <tbody>\n",
       "    <tr>\n",
       "      <th>0</th>\n",
       "      <td>User 4</td>\n",
       "      <td>AE</td>\n",
       "      <td>Device 0</td>\n",
       "      <td>0</td>\n",
       "      <td>NaN</td>\n",
       "      <td>Manifest: Season 1: \"Pilot\"</td>\n",
       "      <td>play</td>\n",
       "      <td>prequery_results</td>\n",
       "      <td>2022-08-01 13:59:19</td>\n",
       "    </tr>\n",
       "    <tr>\n",
       "      <th>1</th>\n",
       "      <td>User 4</td>\n",
       "      <td>AE</td>\n",
       "      <td>Device 0</td>\n",
       "      <td>0</td>\n",
       "      <td>NaN</td>\n",
       "      <td>NaN</td>\n",
       "      <td>select</td>\n",
       "      <td>prequery_results</td>\n",
       "      <td>2022-08-01 13:59:18</td>\n",
       "    </tr>\n",
       "    <tr>\n",
       "      <th>2</th>\n",
       "      <td>User 4</td>\n",
       "      <td>AE</td>\n",
       "      <td>Device 0</td>\n",
       "      <td>0</td>\n",
       "      <td>NaN</td>\n",
       "      <td>Manifest: Season 1: \"Pilot\"</td>\n",
       "      <td>play</td>\n",
       "      <td>prequery_results</td>\n",
       "      <td>2022-08-01 13:59:07</td>\n",
       "    </tr>\n",
       "    <tr>\n",
       "      <th>3</th>\n",
       "      <td>User 4</td>\n",
       "      <td>AE</td>\n",
       "      <td>Device 0</td>\n",
       "      <td>0</td>\n",
       "      <td>NaN</td>\n",
       "      <td>NaN</td>\n",
       "      <td>select</td>\n",
       "      <td>prequery_results</td>\n",
       "      <td>2022-08-01 13:59:03</td>\n",
       "    </tr>\n",
       "    <tr>\n",
       "      <th>4</th>\n",
       "      <td>User 4</td>\n",
       "      <td>AE</td>\n",
       "      <td>Device 0</td>\n",
       "      <td>0</td>\n",
       "      <td>the gray</td>\n",
       "      <td>The Gray Man</td>\n",
       "      <td>add</td>\n",
       "      <td>title_results</td>\n",
       "      <td>2022-07-17 13:59:23</td>\n",
       "    </tr>\n",
       "    <tr>\n",
       "      <th>...</th>\n",
       "      <td>...</td>\n",
       "      <td>...</td>\n",
       "      <td>...</td>\n",
       "      <td>...</td>\n",
       "      <td>...</td>\n",
       "      <td>...</td>\n",
       "      <td>...</td>\n",
       "      <td>...</td>\n",
       "      <td>...</td>\n",
       "    </tr>\n",
       "    <tr>\n",
       "      <th>2611</th>\n",
       "      <td>User 8</td>\n",
       "      <td>IN</td>\n",
       "      <td>Device 0</td>\n",
       "      <td>0</td>\n",
       "      <td>mut</td>\n",
       "      <td>Muthu</td>\n",
       "      <td>play</td>\n",
       "      <td>title_results</td>\n",
       "      <td>2022-06-01 17:37:40</td>\n",
       "    </tr>\n",
       "    <tr>\n",
       "      <th>2612</th>\n",
       "      <td>User 8</td>\n",
       "      <td>IN</td>\n",
       "      <td>Device 0</td>\n",
       "      <td>0</td>\n",
       "      <td>mut</td>\n",
       "      <td>Muthu</td>\n",
       "      <td>select</td>\n",
       "      <td>title_results</td>\n",
       "      <td>2022-06-01 17:37:38</td>\n",
       "    </tr>\n",
       "    <tr>\n",
       "      <th>2613</th>\n",
       "      <td>User 8</td>\n",
       "      <td>IN</td>\n",
       "      <td>Device 0</td>\n",
       "      <td>0</td>\n",
       "      <td>mut</td>\n",
       "      <td>Muthu</td>\n",
       "      <td>select</td>\n",
       "      <td>title_results</td>\n",
       "      <td>2022-06-01 17:37:35</td>\n",
       "    </tr>\n",
       "    <tr>\n",
       "      <th>2614</th>\n",
       "      <td>User 8</td>\n",
       "      <td>IN</td>\n",
       "      <td>Device 0</td>\n",
       "      <td>0</td>\n",
       "      <td>mut</td>\n",
       "      <td>Muthu</td>\n",
       "      <td>select</td>\n",
       "      <td>title_results</td>\n",
       "      <td>2022-06-01 17:37:33</td>\n",
       "    </tr>\n",
       "    <tr>\n",
       "      <th>2615</th>\n",
       "      <td>User 8</td>\n",
       "      <td>IN</td>\n",
       "      <td>Device 0</td>\n",
       "      <td>0</td>\n",
       "      <td>mut</td>\n",
       "      <td>Kannathil Muthamittal</td>\n",
       "      <td>select</td>\n",
       "      <td>title_results</td>\n",
       "      <td>2022-06-01 17:37:25</td>\n",
       "    </tr>\n",
       "  </tbody>\n",
       "</table>\n",
       "<p>2616 rows × 9 columns</p>\n",
       "</div>"
      ],
      "text/plain": [
       "     Profile Name Country Iso Code    Device  Is Kids Query Typed  \\\n",
       "0          User 4               AE  Device 0        0         NaN   \n",
       "1          User 4               AE  Device 0        0         NaN   \n",
       "2          User 4               AE  Device 0        0         NaN   \n",
       "3          User 4               AE  Device 0        0         NaN   \n",
       "4          User 4               AE  Device 0        0    the gray   \n",
       "...           ...              ...       ...      ...         ...   \n",
       "2611       User 8               IN  Device 0        0         mut   \n",
       "2612       User 8               IN  Device 0        0         mut   \n",
       "2613       User 8               IN  Device 0        0         mut   \n",
       "2614       User 8               IN  Device 0        0         mut   \n",
       "2615       User 8               IN  Device 0        0         mut   \n",
       "\n",
       "                   Displayed Name  Action           Section  \\\n",
       "0     Manifest: Season 1: \"Pilot\"    play  prequery_results   \n",
       "1                             NaN  select  prequery_results   \n",
       "2     Manifest: Season 1: \"Pilot\"    play  prequery_results   \n",
       "3                             NaN  select  prequery_results   \n",
       "4                    The Gray Man     add     title_results   \n",
       "...                           ...     ...               ...   \n",
       "2611                        Muthu    play     title_results   \n",
       "2612                        Muthu  select     title_results   \n",
       "2613                        Muthu  select     title_results   \n",
       "2614                        Muthu  select     title_results   \n",
       "2615        Kannathil Muthamittal  select     title_results   \n",
       "\n",
       "            Utc Timestamp  \n",
       "0     2022-08-01 13:59:19  \n",
       "1     2022-08-01 13:59:18  \n",
       "2     2022-08-01 13:59:07  \n",
       "3     2022-08-01 13:59:03  \n",
       "4     2022-07-17 13:59:23  \n",
       "...                   ...  \n",
       "2611  2022-06-01 17:37:40  \n",
       "2612  2022-06-01 17:37:38  \n",
       "2613  2022-06-01 17:37:35  \n",
       "2614  2022-06-01 17:37:33  \n",
       "2615  2022-06-01 17:37:25  \n",
       "\n",
       "[2616 rows x 9 columns]"
      ]
     },
     "execution_count": 7,
     "metadata": {},
     "output_type": "execute_result"
    }
   ],
   "source": [
    "search=pd.read_csv(\"All_SearchHistory.csv\")\n",
    "search"
   ]
  },
  {
   "cell_type": "code",
   "execution_count": 8,
   "id": "49d84dff-ebcb-4a0c-9f69-77664b9348ae",
   "metadata": {
    "tags": []
   },
   "outputs": [
    {
     "data": {
      "text/plain": [
       "(9992, 10)"
      ]
     },
     "execution_count": 8,
     "metadata": {},
     "output_type": "execute_result"
    }
   ],
   "source": [
    "view.shape"
   ]
  },
  {
   "cell_type": "code",
   "execution_count": 9,
   "id": "2287698d-3523-4af5-a4f1-14be18ef4c1d",
   "metadata": {
    "tags": []
   },
   "outputs": [
    {
     "data": {
      "text/plain": [
       "99920"
      ]
     },
     "execution_count": 9,
     "metadata": {},
     "output_type": "execute_result"
    }
   ],
   "source": [
    "view.size"
   ]
  },
  {
   "cell_type": "code",
   "execution_count": 10,
   "id": "d415d5f7-58f0-4d02-a18d-62b3d58f2420",
   "metadata": {
    "tags": []
   },
   "outputs": [
    {
     "data": {
      "text/plain": [
       "(12104, 6)"
      ]
     },
     "execution_count": 10,
     "metadata": {},
     "output_type": "execute_result"
    }
   ],
   "source": [
    "click.shape"
   ]
  },
  {
   "cell_type": "code",
   "execution_count": 11,
   "id": "8e7095e9-1720-4e65-ba41-bf20a278aada",
   "metadata": {
    "tags": []
   },
   "outputs": [
    {
     "data": {
      "text/plain": [
       "72624"
      ]
     },
     "execution_count": 11,
     "metadata": {},
     "output_type": "execute_result"
    }
   ],
   "source": [
    "click.size"
   ]
  },
  {
   "cell_type": "code",
   "execution_count": 12,
   "id": "b974bee7-9c8f-4ba3-9ca5-c7f41ce27955",
   "metadata": {
    "tags": []
   },
   "outputs": [
    {
     "data": {
      "text/plain": [
       "(137, 12)"
      ]
     },
     "execution_count": 12,
     "metadata": {},
     "output_type": "execute_result"
    }
   ],
   "source": [
    "device.shape"
   ]
  },
  {
   "cell_type": "code",
   "execution_count": 13,
   "id": "7a60170d-c7a2-4539-a550-f637c32b7199",
   "metadata": {
    "tags": []
   },
   "outputs": [
    {
     "data": {
      "text/plain": [
       "1644"
      ]
     },
     "execution_count": 13,
     "metadata": {},
     "output_type": "execute_result"
    }
   ],
   "source": [
    "device.size"
   ]
  },
  {
   "cell_type": "code",
   "execution_count": 14,
   "id": "7441627b-227c-4417-8110-17cb8f4cfe17",
   "metadata": {
    "tags": []
   },
   "outputs": [
    {
     "data": {
      "text/plain": [
       "(9, 16)"
      ]
     },
     "execution_count": 14,
     "metadata": {},
     "output_type": "execute_result"
    }
   ],
   "source": [
    "profile.shape"
   ]
  },
  {
   "cell_type": "code",
   "execution_count": 15,
   "id": "dd7313ec-2d07-4973-9657-2c898b5543fa",
   "metadata": {
    "tags": []
   },
   "outputs": [
    {
     "data": {
      "text/plain": [
       "144"
      ]
     },
     "execution_count": 15,
     "metadata": {},
     "output_type": "execute_result"
    }
   ],
   "source": [
    "profile.size"
   ]
  },
  {
   "cell_type": "code",
   "execution_count": 16,
   "id": "add91784-40d7-4101-bccc-447c83397a1f",
   "metadata": {
    "tags": []
   },
   "outputs": [
    {
     "data": {
      "text/plain": [
       "23544"
      ]
     },
     "execution_count": 16,
     "metadata": {},
     "output_type": "execute_result"
    }
   ],
   "source": [
    "search.size"
   ]
  },
  {
   "cell_type": "code",
   "execution_count": 17,
   "id": "ec5b5e32-aef0-43f5-9642-9157a0353a6e",
   "metadata": {
    "tags": []
   },
   "outputs": [
    {
     "data": {
      "text/plain": [
       "(2616, 9)"
      ]
     },
     "execution_count": 17,
     "metadata": {},
     "output_type": "execute_result"
    }
   ],
   "source": [
    "search.shape"
   ]
  },
  {
   "cell_type": "code",
   "execution_count": 18,
   "id": "d9ab7583-8797-49f9-ac27-3987e0dc7aa2",
   "metadata": {
    "tags": []
   },
   "outputs": [
    {
     "data": {
      "text/plain": [
       "Index(['Profile Name', 'Start Time', 'Duration', 'Attributes', 'Title',\n",
       "       'Supplemental Video Type', 'Device Type', 'Bookmark', 'Latest Bookmark',\n",
       "       'Country'],\n",
       "      dtype='object')"
      ]
     },
     "execution_count": 18,
     "metadata": {},
     "output_type": "execute_result"
    }
   ],
   "source": [
    "view.columns"
   ]
  },
  {
   "cell_type": "code",
   "execution_count": 19,
   "id": "95d08bfa-58df-4a60-80ae-458d3305e81d",
   "metadata": {
    "tags": []
   },
   "outputs": [
    {
     "data": {
      "text/plain": [
       "Index(['Profile Name', 'Country Iso Code', 'Device', 'Is Kids', 'Query Typed',\n",
       "       'Displayed Name', 'Action', 'Section', 'Utc Timestamp'],\n",
       "      dtype='object')"
      ]
     },
     "execution_count": 19,
     "metadata": {},
     "output_type": "execute_result"
    }
   ],
   "source": [
    "search.columns"
   ]
  },
  {
   "cell_type": "code",
   "execution_count": 20,
   "id": "86a2f68a-f9c5-4bc8-8966-f61934ca7623",
   "metadata": {
    "tags": []
   },
   "outputs": [
    {
     "data": {
      "text/plain": [
       "Index(['Profile Name', 'Game Handle', 'Profile Creation Time',\n",
       "       'Maturity Level', 'Primary Lang', 'Has Auto Playback',\n",
       "       'Max Stream Quality', 'Profile Lock Enabled', 'Profile Transferred',\n",
       "       'Profile Transfer Time', 'Profile Transferred From Account',\n",
       "       'Profile Transferred To Account', 'Date Of Birth', 'Gender', 'Opt-Out',\n",
       "       'Privacy And Data Settings'],\n",
       "      dtype='object')"
      ]
     },
     "execution_count": 20,
     "metadata": {},
     "output_type": "execute_result"
    }
   ],
   "source": [
    "profile.columns"
   ]
  },
  {
   "cell_type": "code",
   "execution_count": 21,
   "id": "34bf11b8-2bac-4b29-9577-6d0e4f1a717f",
   "metadata": {
    "tags": []
   },
   "outputs": [
    {
     "data": {
      "text/plain": [
       "Index(['Profile Name', 'Esn', 'Device Type', 'Acct First Playback Date',\n",
       "       'Acct Last Playback Date',\n",
       "       'Acct First Playback Date For User Generated Plays',\n",
       "       'Acct Last Playback Date For User Generated Plays',\n",
       "       'Profile First Playback Date', 'Profile Last Playback Date',\n",
       "       'Profile First Playback Date For User Generated Plays',\n",
       "       'Profile Last Playback Date For User Generated Plays',\n",
       "       'Deactivation Time'],\n",
       "      dtype='object')"
      ]
     },
     "execution_count": 21,
     "metadata": {},
     "output_type": "execute_result"
    }
   ],
   "source": [
    "device.columns"
   ]
  },
  {
   "cell_type": "code",
   "execution_count": 22,
   "id": "898498bc-87a4-490a-8c86-38b1761882b7",
   "metadata": {
    "tags": []
   },
   "outputs": [
    {
     "data": {
      "text/plain": [
       "Index(['Profile Name', 'Source', 'Navigation Level', 'Referrer Url',\n",
       "       'Webpage Url', 'Click Utc Ts'],\n",
       "      dtype='object')"
      ]
     },
     "execution_count": 22,
     "metadata": {},
     "output_type": "execute_result"
    }
   ],
   "source": [
    "click.columns"
   ]
  },
  {
   "cell_type": "code",
   "execution_count": 23,
   "id": "1000cdbb-0fd7-4e0d-9f24-278641a7ddbb",
   "metadata": {
    "tags": []
   },
   "outputs": [
    {
     "data": {
      "text/plain": [
       "Profile Name            0\n",
       "Source                  0\n",
       "Navigation Level        0\n",
       "Referrer Url        12102\n",
       "Webpage Url         12099\n",
       "Click Utc Ts            0\n",
       "dtype: int64"
      ]
     },
     "execution_count": 23,
     "metadata": {},
     "output_type": "execute_result"
    }
   ],
   "source": [
    "click.isnull().sum()"
   ]
  },
  {
   "cell_type": "code",
   "execution_count": 24,
   "id": "d86350da-f1e6-448a-beb9-295c2b156361",
   "metadata": {
    "tags": []
   },
   "outputs": [
    {
     "data": {
      "text/plain": [
       "Profile Name                                             0\n",
       "Esn                                                      0\n",
       "Device Type                                              0\n",
       "Acct First Playback Date                                17\n",
       "Acct Last Playback Date                                 17\n",
       "Acct First Playback Date For User Generated Plays       23\n",
       "Acct Last Playback Date For User Generated Plays        23\n",
       "Profile First Playback Date                             43\n",
       "Profile Last Playback Date                              43\n",
       "Profile First Playback Date For User Generated Plays    45\n",
       "Profile Last Playback Date For User Generated Plays     45\n",
       "Deactivation Time                                       83\n",
       "dtype: int64"
      ]
     },
     "execution_count": 24,
     "metadata": {},
     "output_type": "execute_result"
    }
   ],
   "source": [
    "device.isnull().sum()"
   ]
  },
  {
   "cell_type": "code",
   "execution_count": 25,
   "id": "3a225c62-5b63-4b02-9c5d-0743aecaf521",
   "metadata": {
    "tags": []
   },
   "outputs": [
    {
     "data": {
      "text/plain": [
       "Profile Name                        0\n",
       "Game Handle                         9\n",
       "Profile Creation Time               0\n",
       "Maturity Level                      0\n",
       "Primary Lang                        0\n",
       "Has Auto Playback                   2\n",
       "Max Stream Quality                  0\n",
       "Profile Lock Enabled                0\n",
       "Profile Transferred                 0\n",
       "Profile Transfer Time               9\n",
       "Profile Transferred From Account    9\n",
       "Profile Transferred To Account      9\n",
       "Date Of Birth                       9\n",
       "Gender                              9\n",
       "Opt-Out                             4\n",
       "Privacy And Data Settings           5\n",
       "dtype: int64"
      ]
     },
     "execution_count": 25,
     "metadata": {},
     "output_type": "execute_result"
    }
   ],
   "source": [
    "profile.isnull().sum()"
   ]
  },
  {
   "cell_type": "code",
   "execution_count": 26,
   "id": "27641f02-fc82-4ff9-bfbd-3e769fc5e377",
   "metadata": {
    "tags": []
   },
   "outputs": [
    {
     "data": {
      "text/plain": [
       "Profile Name          0\n",
       "Country Iso Code      0\n",
       "Device                0\n",
       "Is Kids               0\n",
       "Query Typed         727\n",
       "Displayed Name      818\n",
       "Action                0\n",
       "Section               0\n",
       "Utc Timestamp         0\n",
       "dtype: int64"
      ]
     },
     "execution_count": 26,
     "metadata": {},
     "output_type": "execute_result"
    }
   ],
   "source": [
    "search.isnull().sum()"
   ]
  },
  {
   "cell_type": "code",
   "execution_count": 27,
   "id": "70bcb91a-e6ec-4ab7-8ae6-5ce66df973ed",
   "metadata": {
    "tags": []
   },
   "outputs": [
    {
     "data": {
      "text/plain": [
       "Profile Name                  0\n",
       "Start Time                    0\n",
       "Duration                      0\n",
       "Attributes                 8593\n",
       "Title                         0\n",
       "Supplemental Video Type    8147\n",
       "Device Type                   0\n",
       "Bookmark                      0\n",
       "Latest Bookmark               0\n",
       "Country                       0\n",
       "dtype: int64"
      ]
     },
     "execution_count": 27,
     "metadata": {},
     "output_type": "execute_result"
    }
   ],
   "source": [
    "view.isnull().sum()"
   ]
  },
  {
   "cell_type": "code",
   "execution_count": 28,
   "id": "b7c72302-2ffa-4a39-8f11-989c9df12f1d",
   "metadata": {
    "tags": []
   },
   "outputs": [
    {
     "data": {
      "text/plain": [
       "array(['signupPrompt', 'browseTitles', 'movieDetails', 'episodesSelector',\n",
       "       'playback', 'profilesGate', 'settings', 'accountMenu', 'webLink',\n",
       "       'postPlay', 'screenSaver', 'newsFeed', 'browseTitlesGallery',\n",
       "       'comedyFeedTab', 'logout', 'customerService',\n",
       "       'notificationSelector', 'cachedVideos', 'search', 'browseGames',\n",
       "       'notificationLanding', 'searchSuggestionTitleResults',\n",
       "       'accountSettings', 'editProfiles', 'gameDetails',\n",
       "       'planUpgradeGate', 'similarTitlesSelector', 'categoryHub',\n",
       "       'thumbRatingWelcomeDialog', 'login', 'contactUs',\n",
       "       'audioSubtitlesSelector'], dtype=object)"
      ]
     },
     "execution_count": 28,
     "metadata": {},
     "output_type": "execute_result"
    }
   ],
   "source": [
    "pd.unique(click[\"Navigation Level\"])"
   ]
  },
  {
   "cell_type": "code",
   "execution_count": 29,
   "id": "182ddc45-f759-4982-8106-c6dce8bf0490",
   "metadata": {
    "tags": []
   },
   "outputs": [
    {
     "data": {
      "text/plain": [
       "Profile Name           9\n",
       "Source                 3\n",
       "Navigation Level      32\n",
       "Referrer Url           1\n",
       "Webpage Url            4\n",
       "Click Utc Ts        7258\n",
       "dtype: int64"
      ]
     },
     "execution_count": 29,
     "metadata": {},
     "output_type": "execute_result"
    }
   ],
   "source": [
    "click.nunique()"
   ]
  },
  {
   "cell_type": "code",
   "execution_count": 30,
   "id": "416ad02c-177d-4fe2-b565-3988cd028af7",
   "metadata": {
    "tags": []
   },
   "outputs": [
    {
     "data": {
      "text/plain": [
       "Profile Name                                             9\n",
       "Esn                                                     58\n",
       "Device Type                                             12\n",
       "Acct First Playback Date                                48\n",
       "Acct Last Playback Date                                 48\n",
       "Acct First Playback Date For User Generated Plays       46\n",
       "Acct Last Playback Date For User Generated Plays        46\n",
       "Profile First Playback Date                             71\n",
       "Profile Last Playback Date                              71\n",
       "Profile First Playback Date For User Generated Plays    69\n",
       "Profile Last Playback Date For User Generated Plays     69\n",
       "Deactivation Time                                        8\n",
       "dtype: int64"
      ]
     },
     "execution_count": 30,
     "metadata": {},
     "output_type": "execute_result"
    }
   ],
   "source": [
    "device.nunique()"
   ]
  },
  {
   "cell_type": "code",
   "execution_count": 31,
   "id": "80a40ffc-5ddb-4043-979b-79c660d0629e",
   "metadata": {
    "tags": []
   },
   "outputs": [
    {
     "data": {
      "text/plain": [
       "Profile Name                        9\n",
       "Game Handle                         0\n",
       "Profile Creation Time               6\n",
       "Maturity Level                      1\n",
       "Primary Lang                        1\n",
       "Has Auto Playback                   1\n",
       "Max Stream Quality                  1\n",
       "Profile Lock Enabled                1\n",
       "Profile Transferred                 1\n",
       "Profile Transfer Time               0\n",
       "Profile Transferred From Account    0\n",
       "Profile Transferred To Account      0\n",
       "Date Of Birth                       0\n",
       "Gender                              0\n",
       "Opt-Out                             1\n",
       "Privacy And Data Settings           1\n",
       "dtype: int64"
      ]
     },
     "execution_count": 31,
     "metadata": {},
     "output_type": "execute_result"
    }
   ],
   "source": [
    "profile.nunique()"
   ]
  },
  {
   "cell_type": "code",
   "execution_count": 32,
   "id": "eec0ddc1-c30f-4ad8-9a0a-135498f1d84c",
   "metadata": {
    "tags": []
   },
   "outputs": [
    {
     "data": {
      "text/plain": [
       "Profile Name           9\n",
       "Country Iso Code       5\n",
       "Device                 6\n",
       "Is Kids                1\n",
       "Query Typed          396\n",
       "Displayed Name       812\n",
       "Action                 3\n",
       "Section                3\n",
       "Utc Timestamp       2515\n",
       "dtype: int64"
      ]
     },
     "execution_count": 32,
     "metadata": {},
     "output_type": "execute_result"
    }
   ],
   "source": [
    "search.nunique()"
   ]
  },
  {
   "cell_type": "code",
   "execution_count": 33,
   "id": "1651923e-80a6-4b98-a9a3-f8e1a1630389",
   "metadata": {
    "tags": []
   },
   "outputs": [
    {
     "data": {
      "text/plain": [
       "Profile Name                  9\n",
       "Start Time                 9988\n",
       "Duration                   2741\n",
       "Attributes                    4\n",
       "Title                      4327\n",
       "Supplemental Video Type       7\n",
       "Device Type                   9\n",
       "Bookmark                   3532\n",
       "Latest Bookmark            1791\n",
       "Country                      10\n",
       "dtype: int64"
      ]
     },
     "execution_count": 33,
     "metadata": {},
     "output_type": "execute_result"
    }
   ],
   "source": [
    "view.nunique()"
   ]
  },
  {
   "cell_type": "code",
   "execution_count": 34,
   "id": "5e9d709d-5209-477c-9c70-e24c80386ceb",
   "metadata": {
    "tags": []
   },
   "outputs": [
    {
     "data": {
      "text/plain": [
       "649"
      ]
     },
     "execution_count": 34,
     "metadata": {},
     "output_type": "execute_result"
    }
   ],
   "source": [
    "click.duplicated().sum()"
   ]
  },
  {
   "cell_type": "code",
   "execution_count": 35,
   "id": "4f3cf635-a93a-4bb5-b942-0451f2219f67",
   "metadata": {
    "tags": []
   },
   "outputs": [
    {
     "data": {
      "text/plain": [
       "0"
      ]
     },
     "execution_count": 35,
     "metadata": {},
     "output_type": "execute_result"
    }
   ],
   "source": [
    "device.duplicated().sum()"
   ]
  },
  {
   "cell_type": "code",
   "execution_count": 36,
   "id": "a525da43-ba5e-4aa6-9625-6e76d2b7c0ad",
   "metadata": {
    "tags": []
   },
   "outputs": [
    {
     "data": {
      "text/plain": [
       "0"
      ]
     },
     "execution_count": 36,
     "metadata": {},
     "output_type": "execute_result"
    }
   ],
   "source": [
    "profile.duplicated().sum()"
   ]
  },
  {
   "cell_type": "code",
   "execution_count": 37,
   "id": "7e50dacf-9059-4174-924b-ca518333e77a",
   "metadata": {
    "tags": []
   },
   "outputs": [
    {
     "data": {
      "text/plain": [
       "93"
      ]
     },
     "execution_count": 37,
     "metadata": {},
     "output_type": "execute_result"
    }
   ],
   "source": [
    "search.duplicated().sum()"
   ]
  },
  {
   "cell_type": "code",
   "execution_count": 38,
   "id": "9db95bcf-a123-4e4c-835b-0b3349e50465",
   "metadata": {
    "tags": []
   },
   "outputs": [
    {
     "data": {
      "text/plain": [
       "0"
      ]
     },
     "execution_count": 38,
     "metadata": {},
     "output_type": "execute_result"
    }
   ],
   "source": [
    "view.duplicated().sum()"
   ]
  },
  {
   "cell_type": "code",
   "execution_count": 39,
   "id": "c8aa5f2a-55ef-4ee8-b243-6b4fc67a5b69",
   "metadata": {
    "tags": []
   },
   "outputs": [
    {
     "data": {
      "text/plain": [
       "(12104, 6)"
      ]
     },
     "execution_count": 39,
     "metadata": {},
     "output_type": "execute_result"
    }
   ],
   "source": [
    "data1=click.copy()\n",
    "data1.shape"
   ]
  },
  {
   "cell_type": "code",
   "execution_count": 40,
   "id": "68daa008-70c8-4aa6-a6f9-6ffac23e8a3f",
   "metadata": {
    "tags": []
   },
   "outputs": [
    {
     "data": {
      "text/plain": [
       "(137, 12)"
      ]
     },
     "execution_count": 40,
     "metadata": {},
     "output_type": "execute_result"
    }
   ],
   "source": [
    "data2=device.copy()\n",
    "data2.shape"
   ]
  },
  {
   "cell_type": "code",
   "execution_count": 41,
   "id": "20135504-5698-4288-ac34-07913f96b936",
   "metadata": {
    "tags": []
   },
   "outputs": [
    {
     "data": {
      "text/plain": [
       "(9, 16)"
      ]
     },
     "execution_count": 41,
     "metadata": {},
     "output_type": "execute_result"
    }
   ],
   "source": [
    "data3=profile.copy()\n",
    "data3.shape"
   ]
  },
  {
   "cell_type": "code",
   "execution_count": 42,
   "id": "760ef235-3885-4be5-9edf-298b0938959f",
   "metadata": {
    "tags": []
   },
   "outputs": [
    {
     "data": {
      "text/plain": [
       "(2616, 9)"
      ]
     },
     "execution_count": 42,
     "metadata": {},
     "output_type": "execute_result"
    }
   ],
   "source": [
    "data4=search.copy()\n",
    "data4.shape"
   ]
  },
  {
   "cell_type": "code",
   "execution_count": 43,
   "id": "71bfbf28-dd4d-4a22-b167-435e4e1839e0",
   "metadata": {
    "tags": []
   },
   "outputs": [
    {
     "data": {
      "text/plain": [
       "(9992, 10)"
      ]
     },
     "execution_count": 43,
     "metadata": {},
     "output_type": "execute_result"
    }
   ],
   "source": [
    "data4=view.copy()\n",
    "data4.shape"
   ]
  },
  {
   "cell_type": "code",
   "execution_count": 44,
   "id": "6743a69e-7dec-4b5a-942d-fc67fcacc646",
   "metadata": {},
   "outputs": [
    {
     "data": {
      "text/html": [
       "<div>\n",
       "<style scoped>\n",
       "    .dataframe tbody tr th:only-of-type {\n",
       "        vertical-align: middle;\n",
       "    }\n",
       "\n",
       "    .dataframe tbody tr th {\n",
       "        vertical-align: top;\n",
       "    }\n",
       "\n",
       "    .dataframe thead th {\n",
       "        text-align: right;\n",
       "    }\n",
       "</style>\n",
       "<table border=\"1\" class=\"dataframe\">\n",
       "  <thead>\n",
       "    <tr style=\"text-align: right;\">\n",
       "      <th></th>\n",
       "      <th>Profile Name</th>\n",
       "      <th>Start Time</th>\n",
       "      <th>Duration</th>\n",
       "      <th>Attributes</th>\n",
       "      <th>Title</th>\n",
       "      <th>Supplemental Video Type</th>\n",
       "      <th>Device Type</th>\n",
       "      <th>Bookmark</th>\n",
       "      <th>Latest Bookmark</th>\n",
       "      <th>Country</th>\n",
       "    </tr>\n",
       "  </thead>\n",
       "  <tbody>\n",
       "    <tr>\n",
       "      <th>24</th>\n",
       "      <td>User 1</td>\n",
       "      <td>2022-01-01 10:01:39</td>\n",
       "      <td>00:00:10</td>\n",
       "      <td>Autoplayed: user action: None;</td>\n",
       "      <td>Genre Specific Moment Clip: Minnal Murali</td>\n",
       "      <td>HOOK</td>\n",
       "      <td>Device Type 7</td>\n",
       "      <td>00:00:10</td>\n",
       "      <td>00:00:10</td>\n",
       "      <td>IN (India)</td>\n",
       "    </tr>\n",
       "    <tr>\n",
       "      <th>36</th>\n",
       "      <td>User 1</td>\n",
       "      <td>2021-12-28 09:11:48</td>\n",
       "      <td>00:00:04</td>\n",
       "      <td>Autoplayed: user action: None;</td>\n",
       "      <td>Trailer: Minnal Murali</td>\n",
       "      <td>TRAILER</td>\n",
       "      <td>Device Type 7</td>\n",
       "      <td>00:00:04</td>\n",
       "      <td>00:00:04</td>\n",
       "      <td>IN (India)</td>\n",
       "    </tr>\n",
       "    <tr>\n",
       "      <th>38</th>\n",
       "      <td>User 1</td>\n",
       "      <td>2021-12-28 09:00:59</td>\n",
       "      <td>00:00:13</td>\n",
       "      <td>Autoplayed: user action: None;</td>\n",
       "      <td>Trailer: Minnal Murali</td>\n",
       "      <td>TRAILER</td>\n",
       "      <td>Device Type 7</td>\n",
       "      <td>00:00:13</td>\n",
       "      <td>Not latest view</td>\n",
       "      <td>IN (India)</td>\n",
       "    </tr>\n",
       "    <tr>\n",
       "      <th>51</th>\n",
       "      <td>User 1</td>\n",
       "      <td>2021-12-28 07:15:27</td>\n",
       "      <td>00:00:06</td>\n",
       "      <td>Autoplayed: user action: None;</td>\n",
       "      <td>Jurassic Park III_hook_02_16x9</td>\n",
       "      <td>HOOK</td>\n",
       "      <td>Device Type 7</td>\n",
       "      <td>00:00:06</td>\n",
       "      <td>00:00:06</td>\n",
       "      <td>IN (India)</td>\n",
       "    </tr>\n",
       "    <tr>\n",
       "      <th>58</th>\n",
       "      <td>User 1</td>\n",
       "      <td>2021-12-27 04:40:51</td>\n",
       "      <td>00:00:06</td>\n",
       "      <td>Autoplayed: user action: None;</td>\n",
       "      <td>Varane Avashyamund (Malayalam)_hook_04_16x9</td>\n",
       "      <td>HOOK</td>\n",
       "      <td>Device Type 7</td>\n",
       "      <td>00:00:06</td>\n",
       "      <td>00:00:06</td>\n",
       "      <td>IN (India)</td>\n",
       "    </tr>\n",
       "    <tr>\n",
       "      <th>...</th>\n",
       "      <td>...</td>\n",
       "      <td>...</td>\n",
       "      <td>...</td>\n",
       "      <td>...</td>\n",
       "      <td>...</td>\n",
       "      <td>...</td>\n",
       "      <td>...</td>\n",
       "      <td>...</td>\n",
       "      <td>...</td>\n",
       "      <td>...</td>\n",
       "    </tr>\n",
       "    <tr>\n",
       "      <th>9967</th>\n",
       "      <td>User 5</td>\n",
       "      <td>2023-01-23 14:59:15</td>\n",
       "      <td>00:00:19</td>\n",
       "      <td>Autoplayed: user action: None;</td>\n",
       "      <td>Genre Specific Moment Clip: Mission Majnu</td>\n",
       "      <td>HOOK</td>\n",
       "      <td>Device Type 5</td>\n",
       "      <td>00:00:19</td>\n",
       "      <td>Not latest view</td>\n",
       "      <td>IN (India)</td>\n",
       "    </tr>\n",
       "    <tr>\n",
       "      <th>9979</th>\n",
       "      <td>User 5</td>\n",
       "      <td>2023-01-09 14:28:14</td>\n",
       "      <td>00:00:07</td>\n",
       "      <td>Autoplayed: user action: None;</td>\n",
       "      <td>Season 1 Plot Clip: Khakee: The Bihar Chapter</td>\n",
       "      <td>HOOK</td>\n",
       "      <td>Device Type 5</td>\n",
       "      <td>00:00:07</td>\n",
       "      <td>00:00:07</td>\n",
       "      <td>IN (India)</td>\n",
       "    </tr>\n",
       "    <tr>\n",
       "      <th>9982</th>\n",
       "      <td>User 5</td>\n",
       "      <td>2023-01-09 08:42:49</td>\n",
       "      <td>00:00:39</td>\n",
       "      <td>Autoplayed: user action: None;</td>\n",
       "      <td>The Vampire Diaries: Season 1_hook_primary_16x9</td>\n",
       "      <td>HOOK</td>\n",
       "      <td>Device Type 5</td>\n",
       "      <td>00:00:39</td>\n",
       "      <td>Not latest view</td>\n",
       "      <td>IN (India)</td>\n",
       "    </tr>\n",
       "    <tr>\n",
       "      <th>9990</th>\n",
       "      <td>User 5</td>\n",
       "      <td>2023-01-07 15:13:26</td>\n",
       "      <td>00:00:06</td>\n",
       "      <td>Autoplayed: user action: None;</td>\n",
       "      <td>Season 1 Genre Specific Moment Clip: Wednesday</td>\n",
       "      <td>HOOK</td>\n",
       "      <td>Device Type 5</td>\n",
       "      <td>00:00:06</td>\n",
       "      <td>Not latest view</td>\n",
       "      <td>IN (India)</td>\n",
       "    </tr>\n",
       "    <tr>\n",
       "      <th>9991</th>\n",
       "      <td>User 5</td>\n",
       "      <td>2023-01-07 15:13:19</td>\n",
       "      <td>00:00:04</td>\n",
       "      <td>Autoplayed: user action: None;</td>\n",
       "      <td>Naruto Shippuden: Season 1_hook_03_16x9</td>\n",
       "      <td>HOOK</td>\n",
       "      <td>Device Type 5</td>\n",
       "      <td>00:00:04</td>\n",
       "      <td>Not latest view</td>\n",
       "      <td>IN (India)</td>\n",
       "    </tr>\n",
       "  </tbody>\n",
       "</table>\n",
       "<p>745 rows × 10 columns</p>\n",
       "</div>"
      ],
      "text/plain": [
       "     Profile Name           Start Time  Duration  \\\n",
       "24         User 1  2022-01-01 10:01:39  00:00:10   \n",
       "36         User 1  2021-12-28 09:11:48  00:00:04   \n",
       "38         User 1  2021-12-28 09:00:59  00:00:13   \n",
       "51         User 1  2021-12-28 07:15:27  00:00:06   \n",
       "58         User 1  2021-12-27 04:40:51  00:00:06   \n",
       "...           ...                  ...       ...   \n",
       "9967       User 5  2023-01-23 14:59:15  00:00:19   \n",
       "9979       User 5  2023-01-09 14:28:14  00:00:07   \n",
       "9982       User 5  2023-01-09 08:42:49  00:00:39   \n",
       "9990       User 5  2023-01-07 15:13:26  00:00:06   \n",
       "9991       User 5  2023-01-07 15:13:19  00:00:04   \n",
       "\n",
       "                           Attributes  \\\n",
       "24    Autoplayed: user action: None;    \n",
       "36    Autoplayed: user action: None;    \n",
       "38    Autoplayed: user action: None;    \n",
       "51    Autoplayed: user action: None;    \n",
       "58    Autoplayed: user action: None;    \n",
       "...                               ...   \n",
       "9967  Autoplayed: user action: None;    \n",
       "9979  Autoplayed: user action: None;    \n",
       "9982  Autoplayed: user action: None;    \n",
       "9990  Autoplayed: user action: None;    \n",
       "9991  Autoplayed: user action: None;    \n",
       "\n",
       "                                                Title Supplemental Video Type  \\\n",
       "24          Genre Specific Moment Clip: Minnal Murali                    HOOK   \n",
       "36                             Trailer: Minnal Murali                 TRAILER   \n",
       "38                             Trailer: Minnal Murali                 TRAILER   \n",
       "51                     Jurassic Park III_hook_02_16x9                    HOOK   \n",
       "58        Varane Avashyamund (Malayalam)_hook_04_16x9                    HOOK   \n",
       "...                                               ...                     ...   \n",
       "9967        Genre Specific Moment Clip: Mission Majnu                    HOOK   \n",
       "9979    Season 1 Plot Clip: Khakee: The Bihar Chapter                    HOOK   \n",
       "9982  The Vampire Diaries: Season 1_hook_primary_16x9                    HOOK   \n",
       "9990   Season 1 Genre Specific Moment Clip: Wednesday                    HOOK   \n",
       "9991          Naruto Shippuden: Season 1_hook_03_16x9                    HOOK   \n",
       "\n",
       "        Device Type  Bookmark  Latest Bookmark     Country  \n",
       "24    Device Type 7  00:00:10         00:00:10  IN (India)  \n",
       "36    Device Type 7  00:00:04         00:00:04  IN (India)  \n",
       "38    Device Type 7  00:00:13  Not latest view  IN (India)  \n",
       "51    Device Type 7  00:00:06         00:00:06  IN (India)  \n",
       "58    Device Type 7  00:00:06         00:00:06  IN (India)  \n",
       "...             ...       ...              ...         ...  \n",
       "9967  Device Type 5  00:00:19  Not latest view  IN (India)  \n",
       "9979  Device Type 5  00:00:07         00:00:07  IN (India)  \n",
       "9982  Device Type 5  00:00:39  Not latest view  IN (India)  \n",
       "9990  Device Type 5  00:00:06  Not latest view  IN (India)  \n",
       "9991  Device Type 5  00:00:04  Not latest view  IN (India)  \n",
       "\n",
       "[745 rows x 10 columns]"
      ]
     },
     "execution_count": 44,
     "metadata": {},
     "output_type": "execute_result"
    }
   ],
   "source": [
    "view=view.dropna()\n",
    "view"
   ]
  },
  {
   "cell_type": "code",
   "execution_count": 45,
   "id": "bafb7f3e-285b-40bb-8a2b-e54fa94af6bc",
   "metadata": {
    "tags": []
   },
   "outputs": [
    {
     "data": {
      "text/plain": [
       "(745, 10)"
      ]
     },
     "execution_count": 45,
     "metadata": {},
     "output_type": "execute_result"
    }
   ],
   "source": [
    "view.shape"
   ]
  },
  {
   "cell_type": "code",
   "execution_count": 46,
   "id": "c8ef769e-fb25-43a8-989e-bb15b8e87fce",
   "metadata": {
    "tags": []
   },
   "outputs": [
    {
     "data": {
      "text/plain": [
       "7450"
      ]
     },
     "execution_count": 46,
     "metadata": {},
     "output_type": "execute_result"
    }
   ],
   "source": [
    "view.size"
   ]
  },
  {
   "cell_type": "code",
   "execution_count": 47,
   "id": "95113f4b-2ceb-404d-a733-c776704a89c2",
   "metadata": {
    "tags": []
   },
   "outputs": [
    {
     "data": {
      "text/plain": [
       "<Axes: xlabel='Supplemental Video Type', ylabel='Count'>"
      ]
     },
     "execution_count": 47,
     "metadata": {},
     "output_type": "execute_result"
    },
    {
     "data": {
      "image/png": "[encoded data removed]",
      "text/plain": [
       "<Figure size 640x480 with 1 Axes>"
      ]
     },
     "metadata": {},
     "output_type": "display_data"
    }
   ],
   "source": [
    "sns.histplot(x=view[\"Supplemental Video Type\"],color=\"green\")"
   ]
  },
  {
   "cell_type": "code",
   "execution_count": 48,
   "id": "66f4ba71-0ea4-4b98-b3de-bc0cde2104fd",
   "metadata": {
    "tags": []
   },
   "outputs": [
    {
     "data": {
      "text/plain": [
       "<matplotlib.collections.PathCollection at 0x2a1d766fdd0>"
      ]
     },
     "execution_count": 48,
     "metadata": {},
     "output_type": "execute_result"
    },
    {
     "data": {
      "image/png": "[encoded data removed]",
      "text/plain": [
       "<Figure size 640x480 with 1 Axes>"
      ]
     },
     "metadata": {},
     "output_type": "display_data"
    }
   ],
   "source": [
    "plt.scatter(view[\"Start Time\"],view[\"Duration\"])"
   ]
  },
  {
   "cell_type": "code",
   "execution_count": 49,
   "id": "9e3f406c-5790-4a5e-bae7-8e1693b3d4f9",
   "metadata": {},
   "outputs": [
    {
     "data": {
      "text/html": [
       "<div>\n",
       "<style scoped>\n",
       "    .dataframe tbody tr th:only-of-type {\n",
       "        vertical-align: middle;\n",
       "    }\n",
       "\n",
       "    .dataframe tbody tr th {\n",
       "        vertical-align: top;\n",
       "    }\n",
       "\n",
       "    .dataframe thead th {\n",
       "        text-align: right;\n",
       "    }\n",
       "</style>\n",
       "<table border=\"1\" class=\"dataframe\">\n",
       "  <thead>\n",
       "    <tr style=\"text-align: right;\">\n",
       "      <th></th>\n",
       "      <th>Profile Name</th>\n",
       "      <th>Country Iso Code</th>\n",
       "      <th>Device</th>\n",
       "      <th>Is Kids</th>\n",
       "      <th>Query Typed</th>\n",
       "      <th>Displayed Name</th>\n",
       "      <th>Action</th>\n",
       "      <th>Section</th>\n",
       "      <th>Utc Timestamp</th>\n",
       "    </tr>\n",
       "  </thead>\n",
       "  <tbody>\n",
       "    <tr>\n",
       "      <th>4</th>\n",
       "      <td>User 4</td>\n",
       "      <td>AE</td>\n",
       "      <td>Device 0</td>\n",
       "      <td>0</td>\n",
       "      <td>the gray</td>\n",
       "      <td>The Gray Man</td>\n",
       "      <td>add</td>\n",
       "      <td>title_results</td>\n",
       "      <td>2022-07-17 13:59:23</td>\n",
       "    </tr>\n",
       "    <tr>\n",
       "      <th>5</th>\n",
       "      <td>User 4</td>\n",
       "      <td>AE</td>\n",
       "      <td>Device 0</td>\n",
       "      <td>0</td>\n",
       "      <td>the gray</td>\n",
       "      <td>The Gray Man</td>\n",
       "      <td>select</td>\n",
       "      <td>title_results</td>\n",
       "      <td>2022-07-17 13:59:17</td>\n",
       "    </tr>\n",
       "    <tr>\n",
       "      <th>11</th>\n",
       "      <td>User 4</td>\n",
       "      <td>AE</td>\n",
       "      <td>Device 0</td>\n",
       "      <td>0</td>\n",
       "      <td>stra</td>\n",
       "      <td>Stranger Things 4: \"Chapter Eight: Papa\"</td>\n",
       "      <td>play</td>\n",
       "      <td>title_results</td>\n",
       "      <td>2022-07-01 14:28:04</td>\n",
       "    </tr>\n",
       "    <tr>\n",
       "      <th>12</th>\n",
       "      <td>User 4</td>\n",
       "      <td>AE</td>\n",
       "      <td>Device 0</td>\n",
       "      <td>0</td>\n",
       "      <td>stra</td>\n",
       "      <td>Stranger Things 4: \"Chapter Eight: Papa\"</td>\n",
       "      <td>play</td>\n",
       "      <td>title_results</td>\n",
       "      <td>2022-07-01 14:13:00</td>\n",
       "    </tr>\n",
       "    <tr>\n",
       "      <th>13</th>\n",
       "      <td>User 4</td>\n",
       "      <td>AE</td>\n",
       "      <td>Device 0</td>\n",
       "      <td>0</td>\n",
       "      <td>stra</td>\n",
       "      <td>Stranger Things 4: \"Chapter Eight: Papa\"</td>\n",
       "      <td>play</td>\n",
       "      <td>title_results</td>\n",
       "      <td>2022-07-01 14:10:08</td>\n",
       "    </tr>\n",
       "    <tr>\n",
       "      <th>...</th>\n",
       "      <td>...</td>\n",
       "      <td>...</td>\n",
       "      <td>...</td>\n",
       "      <td>...</td>\n",
       "      <td>...</td>\n",
       "      <td>...</td>\n",
       "      <td>...</td>\n",
       "      <td>...</td>\n",
       "      <td>...</td>\n",
       "    </tr>\n",
       "    <tr>\n",
       "      <th>2611</th>\n",
       "      <td>User 8</td>\n",
       "      <td>IN</td>\n",
       "      <td>Device 0</td>\n",
       "      <td>0</td>\n",
       "      <td>mut</td>\n",
       "      <td>Muthu</td>\n",
       "      <td>play</td>\n",
       "      <td>title_results</td>\n",
       "      <td>2022-06-01 17:37:40</td>\n",
       "    </tr>\n",
       "    <tr>\n",
       "      <th>2612</th>\n",
       "      <td>User 8</td>\n",
       "      <td>IN</td>\n",
       "      <td>Device 0</td>\n",
       "      <td>0</td>\n",
       "      <td>mut</td>\n",
       "      <td>Muthu</td>\n",
       "      <td>select</td>\n",
       "      <td>title_results</td>\n",
       "      <td>2022-06-01 17:37:38</td>\n",
       "    </tr>\n",
       "    <tr>\n",
       "      <th>2613</th>\n",
       "      <td>User 8</td>\n",
       "      <td>IN</td>\n",
       "      <td>Device 0</td>\n",
       "      <td>0</td>\n",
       "      <td>mut</td>\n",
       "      <td>Muthu</td>\n",
       "      <td>select</td>\n",
       "      <td>title_results</td>\n",
       "      <td>2022-06-01 17:37:35</td>\n",
       "    </tr>\n",
       "    <tr>\n",
       "      <th>2614</th>\n",
       "      <td>User 8</td>\n",
       "      <td>IN</td>\n",
       "      <td>Device 0</td>\n",
       "      <td>0</td>\n",
       "      <td>mut</td>\n",
       "      <td>Muthu</td>\n",
       "      <td>select</td>\n",
       "      <td>title_results</td>\n",
       "      <td>2022-06-01 17:37:33</td>\n",
       "    </tr>\n",
       "    <tr>\n",
       "      <th>2615</th>\n",
       "      <td>User 8</td>\n",
       "      <td>IN</td>\n",
       "      <td>Device 0</td>\n",
       "      <td>0</td>\n",
       "      <td>mut</td>\n",
       "      <td>Kannathil Muthamittal</td>\n",
       "      <td>select</td>\n",
       "      <td>title_results</td>\n",
       "      <td>2022-06-01 17:37:25</td>\n",
       "    </tr>\n",
       "  </tbody>\n",
       "</table>\n",
       "<p>1401 rows × 9 columns</p>\n",
       "</div>"
      ],
      "text/plain": [
       "     Profile Name Country Iso Code    Device  Is Kids Query Typed  \\\n",
       "4          User 4               AE  Device 0        0    the gray   \n",
       "5          User 4               AE  Device 0        0    the gray   \n",
       "11         User 4               AE  Device 0        0        stra   \n",
       "12         User 4               AE  Device 0        0        stra   \n",
       "13         User 4               AE  Device 0        0        stra   \n",
       "...           ...              ...       ...      ...         ...   \n",
       "2611       User 8               IN  Device 0        0         mut   \n",
       "2612       User 8               IN  Device 0        0         mut   \n",
       "2613       User 8               IN  Device 0        0         mut   \n",
       "2614       User 8               IN  Device 0        0         mut   \n",
       "2615       User 8               IN  Device 0        0         mut   \n",
       "\n",
       "                                Displayed Name  Action        Section  \\\n",
       "4                                 The Gray Man     add  title_results   \n",
       "5                                 The Gray Man  select  title_results   \n",
       "11    Stranger Things 4: \"Chapter Eight: Papa\"    play  title_results   \n",
       "12    Stranger Things 4: \"Chapter Eight: Papa\"    play  title_results   \n",
       "13    Stranger Things 4: \"Chapter Eight: Papa\"    play  title_results   \n",
       "...                                        ...     ...            ...   \n",
       "2611                                     Muthu    play  title_results   \n",
       "2612                                     Muthu  select  title_results   \n",
       "2613                                     Muthu  select  title_results   \n",
       "2614                                     Muthu  select  title_results   \n",
       "2615                     Kannathil Muthamittal  select  title_results   \n",
       "\n",
       "            Utc Timestamp  \n",
       "4     2022-07-17 13:59:23  \n",
       "5     2022-07-17 13:59:17  \n",
       "11    2022-07-01 14:28:04  \n",
       "12    2022-07-01 14:13:00  \n",
       "13    2022-07-01 14:10:08  \n",
       "...                   ...  \n",
       "2611  2022-06-01 17:37:40  \n",
       "2612  2022-06-01 17:37:38  \n",
       "2613  2022-06-01 17:37:35  \n",
       "2614  2022-06-01 17:37:33  \n",
       "2615  2022-06-01 17:37:25  \n",
       "\n",
       "[1401 rows x 9 columns]"
      ]
     },
     "execution_count": 49,
     "metadata": {},
     "output_type": "execute_result"
    }
   ],
   "source": [
    "search=search.dropna()\n",
    "search"
   ]
  },
  {
   "cell_type": "code",
   "execution_count": 50,
   "id": "1d0161ce-cf60-41f7-95fd-aa9c2d266c2d",
   "metadata": {
    "tags": []
   },
   "outputs": [
    {
     "data": {
      "text/plain": [
       "(1401, 9)"
      ]
     },
     "execution_count": 50,
     "metadata": {},
     "output_type": "execute_result"
    }
   ],
   "source": [
    "search.shape"
   ]
  },
  {
   "cell_type": "code",
   "execution_count": 51,
   "id": "31f15196-8996-4ecf-8828-c8e1884f02d1",
   "metadata": {
    "tags": []
   },
   "outputs": [
    {
     "data": {
      "text/plain": [
       "12609"
      ]
     },
     "execution_count": 51,
     "metadata": {},
     "output_type": "execute_result"
    }
   ],
   "source": [
    "search.size"
   ]
  },
  {
   "cell_type": "code",
   "execution_count": 52,
   "id": "83914aca-32c6-4c95-918a-35c18456b17b",
   "metadata": {
    "tags": []
   },
   "outputs": [
    {
     "data": {
      "text/plain": [
       "<Axes: xlabel='Supplemental Video Type', ylabel='Count'>"
      ]
     },
     "execution_count": 52,
     "metadata": {},
     "output_type": "execute_result"
    },
    {
     "data": {
      "image/png": "[encoded data removed]",
      "text/plain": [
       "<Figure size 640x480 with 1 Axes>"
      ]
     },
     "metadata": {},
     "output_type": "display_data"
    }
   ],
   "source": [
    "sns.histplot(x=view[\"Supplemental Video Type\"])"
   ]
  },
  {
   "cell_type": "code",
   "execution_count": null,
   "id": "d17a9a92-bbb9-40bb-ae91-87353c8b85d1",
   "metadata": {},
   "outputs": [],
   "source": []
  }
 ],
 "metadata": {
  "kernelspec": {
   "display_name": "Python 3 (ipykernel)",
   "language": "python",
   "name": "python3"
  },
  "language_info": {
   "codemirror_mode": {
    "name": "ipython",
    "version": 3
   },
   "file_extension": ".py",
   "mimetype": "text/x-python",
   "name": "python",
   "nbconvert_exporter": "python",
   "pygments_lexer": "ipython3",
   "version": "3.11.4"
  }
 },
 "nbformat": 4,
 "nbformat_minor": 5
}
